{
 "cells": [
  {
   "cell_type": "code",
   "execution_count": 3,
   "metadata": {},
   "outputs": [],
   "source": [
    "import random\n",
    "import csv\n",
    "\n",
    "file_path = \"./SiP_Sess0.csv\"\n",
    "sessions = 20\n",
    "noise = 2\n",
    "\n",
    "for i in range(sessions):\n",
    "    file_out = open(f\"./SiP_Sess{i+1}.csv\", \"w\")\n",
    "    with open(file_path) as file:\n",
    "        file = csv.reader(file, delimiter=\",\")\n",
    "        for line in file:\n",
    "            nr, E, N, H = line\n",
    "            e_noise = random.randint(-noise * 100, noise * 100)\n",
    "            n_noise = random.randint(-noise * 100, noise * 100)\n",
    "            h_noise = random.randint(-noise * 100, noise * 100)\n",
    "            E = round((float(E) * 10_000 + e_noise) / 10_000, 4)\n",
    "            N = round((float(N) * 10_000 + n_noise) / 10_000, 4)\n",
    "            H = round((float(H) * 10_000 + h_noise) / 10_000, 4)\n",
    "            line = nr, E, N, H\n",
    "            file_out.write(f\"{nr},{E},{N},{H}\\n\")\n",
    "        file_out.close()\n",
    "\n"
   ]
  },
  {
   "cell_type": "code",
   "execution_count": 3,
   "metadata": {},
   "outputs": [],
   "source": [
    "file_out.close()"
   ]
  },
  {
   "cell_type": "code",
   "execution_count": null,
   "metadata": {},
   "outputs": [],
   "source": []
  }
 ],
 "metadata": {
  "kernelspec": {
   "display_name": "geopython38",
   "language": "python",
   "name": "python3"
  },
  "language_info": {
   "codemirror_mode": {
    "name": "ipython",
    "version": 3
   },
   "file_extension": ".py",
   "mimetype": "text/x-python",
   "name": "python",
   "nbconvert_exporter": "python",
   "pygments_lexer": "ipython3",
   "version": "3.9.19"
  }
 },
 "nbformat": 4,
 "nbformat_minor": 2
}
